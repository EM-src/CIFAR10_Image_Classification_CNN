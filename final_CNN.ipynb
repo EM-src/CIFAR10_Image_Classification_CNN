{
 "cells": [
  {
   "cell_type": "code",
   "execution_count": null,
   "metadata": {},
   "outputs": [],
   "source": [
    "import tensorflow as tf\n",
    "import matplotlib.pyplot as plt\n",
    "import numpy as np\n",
    "import keras\n",
    "from keras.datasets import cifar10\n",
    "from keras.models import Sequential\n",
    "from keras.layers import Dense, Dropout, Flatten, Conv2D, MaxPooling2D, BatchNormalization\n",
    "from skimage.transform import resize\n",
    "from keras.preprocessing.image import ImageDataGenerator\n",
    "from sklearn.metrics import confusion_matrix, classification_report\n",
    "from sklearn.model_selection import train_test_split\n",
    "\n",
    "# Load CIFAR-10 dataset from keras\n",
    "(x_train, y_train), (x_test, y_test) = cifar10.load_data()\n",
    "class_labels = ['Airplane', 'Automobile', 'Bird', 'Cat', 'Deer', 'Dog', 'Frog', 'Horse', 'Ship', 'Truck']\n",
    "print('Dataset class labels', class_labels)\n",
    "\n",
    "# Explore the dataset\n",
    "# Split the training set into training and validation sets, validation set will be 20% of training set\n",
    "x_train, x_val, y_train, y_val = train_test_split(x_train, y_train, test_size=0.2)\n",
    "print(\"\\n\")\n",
    "print('Training set input shape', x_train.shape)\n",
    "print('Training set target shape', y_train.shape)\n",
    "print('Validation set input shape', x_val.shape)\n",
    "print('Validation set target shape', y_val.shape)\n",
    "print('Test set input shape', x_test.shape)\n",
    "print('Test set target shape', y_test.shape)\n",
    "print(\"\\n\")\n",
    "\n",
    "# One-hot encoding, it will help in training stage since we have categorical data\n",
    "y_train_one_hot = keras.utils.to_categorical(y_train, 10)\n",
    "y_val_one_hot = keras.utils.to_categorical(y_val, 10)\n",
    "y_test_one_hot = keras.utils.to_categorical(y_test, 10)\n",
    "print('Train one hot shape',y_train_one_hot.shape)\n",
    "print('Validation one hot shape',y_val_one_hot.shape)\n",
    "print('Test one hot shape',y_test_one_hot.shape)\n",
    "print(\"\\n\")\n",
    "\n",
    "print('Example of one hot label and its corresponding image')\n",
    "%matplotlib inline\n",
    "print('Label for the second image is: ', np.array(class_labels)[y_train[1].astype(int)]) # Convert the class_labels list into an array and then display the label\n",
    "print('The one hot label for the second image is: ', y_train_one_hot[1])\n",
    "img = plt.imshow(x_train[1])\n",
    "\n",
    "\n",
    "# Image processing\n",
    "x_train = x_train.astype('float32')\n",
    "x_val = x_val.astype('float32')\n",
    "x_test = x_test.astype('float32')\n",
    "x_train = x_train/255\n",
    "x_val = x_val/255\n",
    "x_test = x_test/255\n",
    "\n",
    "# create data generator\n",
    "datagen = ImageDataGenerator(width_shift_range=0.1, height_shift_range=0.1, horizontal_flip=True)\n",
    "# prepare iterator\n",
    "it_train = datagen.flow(x_train, y_train_one_hot, batch_size=64)"
   ]
  },
  {
   "cell_type": "code",
   "execution_count": null,
   "metadata": {},
   "outputs": [],
   "source": [
    "# Custom CNN implementation\n",
    "model = Sequential()\n",
    "model.add(Conv2D(32, (3,3), activation='relu', padding='same', input_shape=(32,32,3)))\n",
    "model.add(BatchNormalization())\n",
    "model.add(Conv2D(32, (3,3), activation='relu', padding='same'))\n",
    "model.add(BatchNormalization())\n",
    "model.add(MaxPooling2D((2, 2)))\n",
    "model.add(Dropout(0.2))\n",
    "model.add(Conv2D(64, (3,3), activation='relu', padding='same'))\n",
    "model.add(BatchNormalization())\n",
    "model.add(Conv2D(64, (3,3), activation='relu', padding='same'))\n",
    "model.add(BatchNormalization())\n",
    "model.add(MaxPooling2D((2,2)))\n",
    "model.add(Dropout(0.3))\n",
    "model.add(Conv2D(128, (3,3), activation='relu', padding='same'))\n",
    "model.add(BatchNormalization())\n",
    "model.add(Conv2D(128, (3,3), activation='relu', padding='same'))\n",
    "model.add(BatchNormalization())\n",
    "model.add(MaxPooling2D((2,2)))\n",
    "model.add(Dropout(0.4))\n",
    "model.add(Flatten())\n",
    "model.add(Dense(128, activation='relu'))\n",
    "model.add(Dropout(0.5))\n",
    "model.add(Dense(10, activation='softmax'))\n",
    "\n",
    "model.summary()\n",
    "\n",
    "model.compile(loss='categorical_crossentropy', optimizer='adam', metrics=['accuracy'])\n",
    "\n",
    "#hist = model.fit(x_train, y_train_one_hot, batch_size=32, epochs=100, validation_split=0.2)\n",
    "steps = int(x_train.shape[0] / 64)\n",
    "hist = model.fit(it_train, steps_per_epoch=steps, epochs=100, validation_data=(x_val, y_val_one_hot))"
   ]
  },
  {
   "cell_type": "code",
   "execution_count": null,
   "metadata": {},
   "outputs": [],
   "source": [
    "# Plot model loss and accuracy\n",
    "plt.plot(hist.history['loss']) \n",
    "plt.plot(hist.history['val_loss']) \n",
    "plt.title('Model loss')\n",
    "plt.ylabel('Loss')\n",
    "plt.xlabel('Epoch')\n",
    "plt.legend(['Train', 'Val'], loc='upper right') \n",
    "plt.show()\n",
    "\n",
    "plt.plot(hist.history['accuracy']) \n",
    "plt.plot(hist.history['val_accuracy']) \n",
    "plt.title('Model accuracy') \n",
    "plt.ylabel('Accuracy') \n",
    "plt.xlabel('Epoch')\n",
    "plt.legend(['Train', 'Val'], loc='lower right') \n",
    "plt.show()"
   ]
  },
  {
   "cell_type": "code",
   "execution_count": null,
   "metadata": {},
   "outputs": [],
   "source": [
    "# Evaluate model on test set\n",
    "model.evaluate(x_test, y_test_one_hot)[1]"
   ]
  },
  {
   "cell_type": "code",
   "execution_count": null,
   "metadata": {},
   "outputs": [],
   "source": [
    "y_pred = model.predict(x_test).argmax(axis=1).argmax(axis=1)"
   ]
  },
  {
   "cell_type": "code",
   "execution_count": null,
   "metadata": {},
   "outputs": [],
   "source": [
    "print(classification_report(y_test, y_pred, target_names=class_labels))\n",
    "\n",
    "print(confusion_matrix(y_test, y_pred))"
   ]
  }
 ],
 "metadata": {
  "kernelspec": {
   "display_name": "AI-Studio",
   "language": "python",
   "name": "python3"
  },
  "language_info": {
   "codemirror_mode": {
    "name": "ipython",
    "version": 3
   },
   "file_extension": ".py",
   "mimetype": "text/x-python",
   "name": "python",
   "nbconvert_exporter": "python",
   "pygments_lexer": "ipython3",
   "version": "3.7.13 (default, Mar 28 2022, 07:24:34) \n[Clang 12.0.0 ]"
  },
  "orig_nbformat": 4,
  "vscode": {
   "interpreter": {
    "hash": "2dbb6e374cf3905d4793abf92efb8ddbd6e979f29c756e24b16cc10711ed1608"
   }
  }
 },
 "nbformat": 4,
 "nbformat_minor": 2
}
